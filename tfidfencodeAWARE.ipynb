{
 "cells": [
  {
   "cell_type": "code",
   "execution_count": 10,
   "metadata": {},
   "outputs": [
    {
     "data": {
      "text/html": [
       "<div>\n",
       "<style scoped>\n",
       "    .dataframe tbody tr th:only-of-type {\n",
       "        vertical-align: middle;\n",
       "    }\n",
       "\n",
       "    .dataframe tbody tr th {\n",
       "        vertical-align: top;\n",
       "    }\n",
       "\n",
       "    .dataframe thead th {\n",
       "        text-align: right;\n",
       "    }\n",
       "</style>\n",
       "<table border=\"1\" class=\"dataframe\">\n",
       "  <thead>\n",
       "    <tr style=\"text-align: right;\">\n",
       "      <th></th>\n",
       "      <th>domain</th>\n",
       "      <th>app</th>\n",
       "      <th>review_id</th>\n",
       "      <th>sentence_id</th>\n",
       "      <th>title</th>\n",
       "      <th>review</th>\n",
       "      <th>sentence</th>\n",
       "      <th>rating</th>\n",
       "      <th>is_opinion</th>\n",
       "      <th>category</th>\n",
       "      <th>term</th>\n",
       "      <th>from</th>\n",
       "      <th>to</th>\n",
       "      <th>sentiment</th>\n",
       "    </tr>\n",
       "  </thead>\n",
       "  <tbody>\n",
       "    <tr>\n",
       "      <th>0</th>\n",
       "      <td>productivity</td>\n",
       "      <td>things-3</td>\n",
       "      <td>c9274c0a-a120-4e09-816b-7a8ba3a16634</td>\n",
       "      <td>00808934-e8b9-42fa-b37f-cfeac234bbdd</td>\n",
       "      <td>Difficult to update from Things 2</td>\n",
       "      <td>This new version of Things has an entirely dif...</td>\n",
       "      <td>This new version of Things has an entirely dif...</td>\n",
       "      <td>3</td>\n",
       "      <td>True</td>\n",
       "      <td>usability</td>\n",
       "      <td>new version</td>\n",
       "      <td>6.0</td>\n",
       "      <td>17.0</td>\n",
       "      <td>positive</td>\n",
       "    </tr>\n",
       "    <tr>\n",
       "      <th>1</th>\n",
       "      <td>productivity</td>\n",
       "      <td>notability</td>\n",
       "      <td>e633e20a-07c1-4a5e-80b1-b104b6cf6a61</td>\n",
       "      <td>00a8d4a4-9c8e-4d1c-9085-ffd1f62ae039</td>\n",
       "      <td>Great app</td>\n",
       "      <td>I have been using this app for over 3 years no...</td>\n",
       "      <td>All those contractors were blown away by how e...</td>\n",
       "      <td>5</td>\n",
       "      <td>False</td>\n",
       "      <td>NaN</td>\n",
       "      <td>NaN</td>\n",
       "      <td>NaN</td>\n",
       "      <td>NaN</td>\n",
       "      <td>NaN</td>\n",
       "    </tr>\n",
       "    <tr>\n",
       "      <th>2</th>\n",
       "      <td>productivity</td>\n",
       "      <td>microsoft-word</td>\n",
       "      <td>506230e3-cc98-4233-be40-89e52d53990c</td>\n",
       "      <td>011cd77b-ebbd-4589-af12-9792975b02b9</td>\n",
       "      <td>Same word. Same problem</td>\n",
       "      <td>A lot of people use word because its very stan...</td>\n",
       "      <td>I tell them what happens, and they say “so is ...</td>\n",
       "      <td>1</td>\n",
       "      <td>True</td>\n",
       "      <td>general</td>\n",
       "      <td>NaN</td>\n",
       "      <td>NaN</td>\n",
       "      <td>NaN</td>\n",
       "      <td>negative</td>\n",
       "    </tr>\n",
       "    <tr>\n",
       "      <th>3</th>\n",
       "      <td>productivity</td>\n",
       "      <td>things-3</td>\n",
       "      <td>69d44a5e-218f-4f55-8a99-6cca55d43ca1</td>\n",
       "      <td>014a7d01-f6c0-408a-897b-f6b36cdd8543</td>\n",
       "      <td>Incredible Planner for Students</td>\n",
       "      <td>I was originally skeptical on paying $7 on a t...</td>\n",
       "      <td>The ease of use, simplicity, and great functio...</td>\n",
       "      <td>5</td>\n",
       "      <td>True</td>\n",
       "      <td>effectiveness</td>\n",
       "      <td>functionality</td>\n",
       "      <td>40.0</td>\n",
       "      <td>53.0</td>\n",
       "      <td>positive</td>\n",
       "    </tr>\n",
       "    <tr>\n",
       "      <th>4</th>\n",
       "      <td>productivity</td>\n",
       "      <td>notability</td>\n",
       "      <td>3d0b634c-d402-47e8-ba7d-bf6209fed826</td>\n",
       "      <td>01539a8d-ebde-4cfe-9b5b-3fa10f49fa3e</td>\n",
       "      <td>Recording and syncing</td>\n",
       "      <td>This used to be my go to app for note taking. ...</td>\n",
       "      <td>I’m disappointed that even after a year they h...</td>\n",
       "      <td>1</td>\n",
       "      <td>True</td>\n",
       "      <td>cost</td>\n",
       "      <td>money</td>\n",
       "      <td>95.0</td>\n",
       "      <td>100.0</td>\n",
       "      <td>negative</td>\n",
       "    </tr>\n",
       "  </tbody>\n",
       "</table>\n",
       "</div>"
      ],
      "text/plain": [
       "         domain             app                             review_id  \\\n",
       "0  productivity        things-3  c9274c0a-a120-4e09-816b-7a8ba3a16634   \n",
       "1  productivity      notability  e633e20a-07c1-4a5e-80b1-b104b6cf6a61   \n",
       "2  productivity  microsoft-word  506230e3-cc98-4233-be40-89e52d53990c   \n",
       "3  productivity        things-3  69d44a5e-218f-4f55-8a99-6cca55d43ca1   \n",
       "4  productivity      notability  3d0b634c-d402-47e8-ba7d-bf6209fed826   \n",
       "\n",
       "                            sentence_id                              title  \\\n",
       "0  00808934-e8b9-42fa-b37f-cfeac234bbdd  Difficult to update from Things 2   \n",
       "1  00a8d4a4-9c8e-4d1c-9085-ffd1f62ae039                          Great app   \n",
       "2  011cd77b-ebbd-4589-af12-9792975b02b9            Same word. Same problem   \n",
       "3  014a7d01-f6c0-408a-897b-f6b36cdd8543    Incredible Planner for Students   \n",
       "4  01539a8d-ebde-4cfe-9b5b-3fa10f49fa3e              Recording and syncing   \n",
       "\n",
       "                                              review  \\\n",
       "0  This new version of Things has an entirely dif...   \n",
       "1  I have been using this app for over 3 years no...   \n",
       "2  A lot of people use word because its very stan...   \n",
       "3  I was originally skeptical on paying $7 on a t...   \n",
       "4  This used to be my go to app for note taking. ...   \n",
       "\n",
       "                                            sentence  rating  is_opinion  \\\n",
       "0  This new version of Things has an entirely dif...       3        True   \n",
       "1  All those contractors were blown away by how e...       5       False   \n",
       "2  I tell them what happens, and they say “so is ...       1        True   \n",
       "3  The ease of use, simplicity, and great functio...       5        True   \n",
       "4  I’m disappointed that even after a year they h...       1        True   \n",
       "\n",
       "        category           term  from     to sentiment  \n",
       "0      usability    new version   6.0   17.0  positive  \n",
       "1            NaN            NaN   NaN    NaN       NaN  \n",
       "2        general            NaN   NaN    NaN  negative  \n",
       "3  effectiveness  functionality  40.0   53.0  positive  \n",
       "4           cost          money  95.0  100.0  negative  "
      ]
     },
     "execution_count": 10,
     "metadata": {},
     "output_type": "execute_result"
    }
   ],
   "source": [
    "import pandas as pd\n",
    "AppReview_df = pd.read_csv('./dataset/AWARE_Comprehensive.csv')\n",
    "AppReview_df.head()"
   ]
  },
  {
   "cell_type": "code",
   "execution_count": 11,
   "metadata": {},
   "outputs": [],
   "source": [
    "df_x = AppReview_df['review']\n",
    "df_y = AppReview_df['domain']"
   ]
  },
  {
   "cell_type": "code",
   "execution_count": 4,
   "metadata": {},
   "outputs": [],
   "source": [
    "import gensim.parsing.preprocessing as gsp\n",
    "filters = [\n",
    "           gsp.strip_tags, \n",
    "           gsp.strip_punctuation,\n",
    "           gsp.strip_multiple_whitespaces,\n",
    "           gsp.strip_numeric,\n",
    "           gsp.remove_stopwords, \n",
    "           gsp.strip_short, \n",
    "           gsp.stem_text\n",
    "          ]\n",
    "def clean_text(s):\n",
    "    s = s.lower()\n",
    "    s = utils.to_unicode(s)\n",
    "    for f in filters:\n",
    "        s = f(s)\n",
    "    return s"
   ]
  },
  {
   "cell_type": "code",
   "execution_count": 5,
   "metadata": {},
   "outputs": [],
   "source": [
    "# tf-idf encode\n",
    "from gensim import utils\n",
    "from sklearn.base import BaseEstimator\n",
    "from sklearn.feature_extraction.text import TfidfVectorizer\n",
    "\n",
    "class Text2TfIdfTransformer(BaseEstimator):\n",
    "\n",
    "    def __init__(self):\n",
    "        self._model = TfidfVectorizer()\n",
    "        pass\n",
    "\n",
    "    def fit(self, df_x, df_y=None):\n",
    "        df_x = df_x.apply(lambda x : clean_text(x))\n",
    "        self._model.fit(df_x)\n",
    "        return self\n",
    "\n",
    "    def transform(self, df_x):\n",
    "        return self._model.transform(df_x)"
   ]
  },
  {
   "cell_type": "code",
   "execution_count": 12,
   "metadata": {},
   "outputs": [],
   "source": [
    "tfidf_transformer = Text2TfIdfTransformer()\n",
    "tfidf_vectors = tfidf_transformer.fit(df_x).transform(df_x)# 给新闻内容编码，"
   ]
  },
  {
   "cell_type": "code",
   "execution_count": 13,
   "metadata": {},
   "outputs": [
    {
     "data": {
      "text/plain": [
       "(11321, 7827)"
      ]
     },
     "execution_count": 13,
     "metadata": {},
     "output_type": "execute_result"
    }
   ],
   "source": [
    "tfidf_vectors.shape"
   ]
  },
  {
   "cell_type": "code",
   "execution_count": 14,
   "metadata": {},
   "outputs": [
    {
     "name": "stdout",
     "output_type": "stream",
     "text": [
      "Accuracy for Tf-Idf & Logistic Regression:  0.9609572617571119\n",
      "Accuracy for Tf-Idf & XGBoost Classifier :  0.9858671674506041\n"
     ]
    }
   ],
   "source": [
    "from sklearn.pipeline import Pipeline\n",
    "from sklearn.linear_model import LogisticRegression\n",
    "from sklearn.model_selection import cross_val_score\n",
    "pl_log_reg_tf_idf = Pipeline(steps=[('tfidf',Text2TfIdfTransformer()),\n",
    "                             ('log_reg', LogisticRegression(multi_class='multinomial', solver='saga', max_iter=100))])\n",
    "scores = cross_val_score(pl_log_reg_tf_idf, df_x, df_y, cv=5,scoring='accuracy')\n",
    "print('Accuracy for Tf-Idf & Logistic Regression: ', scores.mean())\n",
    "\n",
    "import xgboost as xgb\n",
    "\n",
    "from sklearn.preprocessing import LabelEncoder\n",
    "\n",
    "le = LabelEncoder()\n",
    "df_y1 = le.fit_transform(df_y)# 给新闻标签编码，按照字母顺序编码\n",
    "\n",
    "pl_xgb_tf_idf = Pipeline(steps=[('tfidf',Text2TfIdfTransformer()),\n",
    "                         ('xgboost', xgb.XGBClassifier(objective='multi:softmax'))])\n",
    "scores = cross_val_score(pl_xgb_tf_idf, df_x, df_y1, cv=5)\n",
    "print('Accuracy for Tf-Idf & XGBoost Classifier : ', scores.mean())"
   ]
  },
  {
   "cell_type": "markdown",
   "metadata": {},
   "source": [
    "Accuracy for Tf-Idf & Logistic Regression:  0.9609572617571119\n",
    "Accuracy for Tf-Idf & XGBoost Classifier :  0.9858671674506041\n",
    "结果感觉会过拟合，他计算的时候并没有划分训练集测试集等。"
   ]
  }
 ],
 "metadata": {
  "kernelspec": {
   "display_name": "pytorchGPU",
   "language": "python",
   "name": "python3"
  },
  "language_info": {
   "codemirror_mode": {
    "name": "ipython",
    "version": 3
   },
   "file_extension": ".py",
   "mimetype": "text/x-python",
   "name": "python",
   "nbconvert_exporter": "python",
   "pygments_lexer": "ipython3",
   "version": "3.8.0"
  }
 },
 "nbformat": 4,
 "nbformat_minor": 2
}
